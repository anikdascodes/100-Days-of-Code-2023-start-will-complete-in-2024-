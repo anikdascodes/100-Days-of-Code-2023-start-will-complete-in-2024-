{
 "cells": [
  {
   "metadata": {},
   "cell_type": "markdown",
   "source": [
    "# Dictionary Comprehension\n",
    "```\n",
    "new_dict = {new_key:new_value for item in list}\n",
    "```\n",
    "\n",
    "```\n",
    "new_dict = {new_key:new_value for (key, value) in dict.items()}\n",
    "```"
   ],
   "id": "d7d77474b6340c4a"
  },
  {
   "metadata": {},
   "cell_type": "markdown",
   "source": [
    "# Conditional Dictionary Comprehension\n",
    "```\n",
    "new_dict = {new_key:new_value for (key, value) in dict.items() if test}\n",
    "```"
   ],
   "id": "50106bf3101dfeda"
  },
  {
   "metadata": {
    "ExecuteTime": {
     "end_time": "2024-07-15T17:00:01.694408Z",
     "start_time": "2024-07-15T17:00:01.664339Z"
    }
   },
   "cell_type": "code",
   "source": [
    "import random\n",
    "\n",
    "names = [\"Alex\", \"Beth\", \"Caroline\", \"Dave\", \"Eleanor\", \"Freddie\"]\n",
    "\n",
    "students_score = {student:random.randint(1,100) for student in names}\n",
    "\n",
    "print(students_score)"
   ],
   "id": "7c6ec7d1e5c6c6ec",
   "outputs": [
    {
     "name": "stdout",
     "output_type": "stream",
     "text": [
      "{'Alex': 98, 'Beth': 86, 'Caroline': 19, 'Dave': 98, 'Eleanor': 10, 'Freddie': 19}\n"
     ]
    }
   ],
   "execution_count": 1
  },
  {
   "metadata": {
    "ExecuteTime": {
     "end_time": "2024-07-15T17:06:23.531937Z",
     "start_time": "2024-07-15T17:06:23.528519Z"
    }
   },
   "cell_type": "code",
   "source": [
    "passed_student = {student:score for (student,score) in students_score.items() if score >= 60}\n",
    "print(passed_student)"
   ],
   "id": "c5859d8997effe23",
   "outputs": [
    {
     "name": "stdout",
     "output_type": "stream",
     "text": [
      "{'Alex': 98, 'Beth': 86, 'Dave': 98}\n"
     ]
    }
   ],
   "execution_count": 2
  },
  {
   "metadata": {
    "ExecuteTime": {
     "end_time": "2024-07-15T17:17:02.309894Z",
     "start_time": "2024-07-15T17:16:35.058484Z"
    }
   },
   "cell_type": "code",
   "source": [
    "# Exercise \n",
    "\n",
    "sentence = input()\n",
    "\n",
    "# using dictionary comprehension\n",
    "result = {word:len(word) for word in sentence.split()}\n",
    "print(result)"
   ],
   "id": "c499fd74ac6d99ea",
   "outputs": [
    {
     "name": "stdout",
     "output_type": "stream",
     "text": [
      "{}\n"
     ]
    }
   ],
   "execution_count": 3
  },
  {
   "metadata": {},
   "cell_type": "code",
   "outputs": [],
   "execution_count": null,
   "source": [
    "# Exercise\n",
    "\n",
    "weather_c = eval(input())\n",
    "\n",
    "weather_f = {day:temp * 9/5 + 32 for (day, temp) in weather_c.item()}\n",
    "\n",
    "print(weather_f)"
   ],
   "id": "492f050020e6cbcb"
  }
 ],
 "metadata": {
  "kernelspec": {
   "display_name": "Python 3",
   "language": "python",
   "name": "python3"
  },
  "language_info": {
   "codemirror_mode": {
    "name": "ipython",
    "version": 2
   },
   "file_extension": ".py",
   "mimetype": "text/x-python",
   "name": "python",
   "nbconvert_exporter": "python",
   "pygments_lexer": "ipython2",
   "version": "2.7.6"
  }
 },
 "nbformat": 4,
 "nbformat_minor": 5
}
