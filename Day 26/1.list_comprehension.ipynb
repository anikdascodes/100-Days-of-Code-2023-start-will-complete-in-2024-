{
 "cells": [
  {
   "metadata": {},
   "cell_type": "markdown",
   "source": "## Create Lists using List Comprehension",
   "id": "e3850e320692ffd8"
  },
  {
   "metadata": {
    "ExecuteTime": {
     "end_time": "2024-07-15T14:46:38.007Z",
     "start_time": "2024-07-15T14:46:38.001533Z"
    }
   },
   "cell_type": "code",
   "source": [
    "numbers = [1,2,3]\n",
    "new_list = []\n",
    "for n in numbers:\n",
    "    add_1 = n + 1\n",
    "    new_list.append(add_1)\n",
    "    \n",
    "print(new_list)"
   ],
   "id": "e59f6bafb2acb09e",
   "outputs": [
    {
     "name": "stdout",
     "output_type": "stream",
     "text": [
      "[2, 3, 4]\n"
     ]
    }
   ],
   "execution_count": 2
  },
  {
   "metadata": {},
   "cell_type": "markdown",
   "source": [
    "# List Comprehension \n",
    "```\n",
    "new_list = [new_item for item in list]\n",
    "```"
   ],
   "id": "784a3db5b8edad35"
  },
  {
   "metadata": {
    "ExecuteTime": {
     "end_time": "2024-07-15T14:51:50.095265Z",
     "start_time": "2024-07-15T14:51:50.085300Z"
    }
   },
   "cell_type": "code",
   "source": [
    "numbers = [1,2,3]\n",
    "new_list = [n + 1 for n in numbers]\n",
    "\n",
    "print(new_list)"
   ],
   "id": "83268480072eb30f",
   "outputs": [
    {
     "name": "stdout",
     "output_type": "stream",
     "text": [
      "[2, 3, 4]\n"
     ]
    }
   ],
   "execution_count": 4
  },
  {
   "metadata": {
    "ExecuteTime": {
     "end_time": "2024-07-15T14:53:07.015256Z",
     "start_time": "2024-07-15T14:53:06.987643Z"
    }
   },
   "cell_type": "code",
   "source": [
    "numbers = [1,2,3]\n",
    "new_list = [n - 1 for n in numbers]\n",
    "\n",
    "print(new_list)"
   ],
   "id": "d24ec600f2cb3ae7",
   "outputs": [
    {
     "name": "stdout",
     "output_type": "stream",
     "text": [
      "[0, 1, 2]\n"
     ]
    }
   ],
   "execution_count": 6
  },
  {
   "metadata": {
    "ExecuteTime": {
     "end_time": "2024-07-15T14:57:39.535803Z",
     "start_time": "2024-07-15T14:57:39.527334Z"
    }
   },
   "cell_type": "code",
   "source": [
    "anik_list = [8,7,9,3,5,8,5,9,3,2,7,5]\n",
    "\n",
    "comprehension = [n + 1 for n in anik_list]\n",
    "print(comprehension)"
   ],
   "id": "6d74e645e14723b4",
   "outputs": [
    {
     "name": "stdout",
     "output_type": "stream",
     "text": [
      "[9, 8, 10, 4, 6, 9, 6, 10, 4, 3, 8, 6]\n"
     ]
    }
   ],
   "execution_count": 7
  },
  {
   "metadata": {
    "ExecuteTime": {
     "end_time": "2024-07-15T15:00:45.889059Z",
     "start_time": "2024-07-15T15:00:45.882316Z"
    }
   },
   "cell_type": "code",
   "source": [
    "name = \"Angela\"\n",
    "new_list = [letter for letter in name]\n",
    "print(new_list)"
   ],
   "id": "78fc4d884aede72d",
   "outputs": [
    {
     "name": "stdout",
     "output_type": "stream",
     "text": [
      "['A', 'n', 'g', 'e', 'l', 'a']\n"
     ]
    }
   ],
   "execution_count": 9
  },
  {
   "metadata": {
    "ExecuteTime": {
     "end_time": "2024-07-15T15:09:13.785400Z",
     "start_time": "2024-07-15T15:09:13.773653Z"
    }
   },
   "cell_type": "code",
   "source": [
    "new_list = [n * 2 for n in range(1,5)]\n",
    "\n",
    "print(new_list)"
   ],
   "id": "b3f79d95de6e4aa7",
   "outputs": [
    {
     "name": "stdout",
     "output_type": "stream",
     "text": [
      "[2, 4, 6, 8]\n"
     ]
    }
   ],
   "execution_count": 14
  },
  {
   "metadata": {},
   "cell_type": "markdown",
   "source": [
    "# Conditional list Comprehension\n",
    "\n",
    "```\n",
    "new_list = [new_item for item in list if test]\n",
    "```"
   ],
   "id": "9a5fee6778e68fdd"
  },
  {
   "metadata": {
    "ExecuteTime": {
     "end_time": "2024-07-15T15:18:18.523567Z",
     "start_time": "2024-07-15T15:18:18.490328Z"
    }
   },
   "cell_type": "code",
   "source": [
    "names = [\"Alex\", \"Beth\", \"Caroline\", \"Dave\", \"Eleanor\", \"Freddie\"]\n",
    "\n",
    "short_names = [name for name in names if len(name) < 5]\n",
    "\n",
    "print(short_names)"
   ],
   "id": "9b2a74a9d93aa407",
   "outputs": [
    {
     "name": "stdout",
     "output_type": "stream",
     "text": [
      "['Alex', 'Beth', 'Dave']\n"
     ]
    }
   ],
   "execution_count": 19
  },
  {
   "metadata": {
    "ExecuteTime": {
     "end_time": "2024-07-15T15:20:46.026659Z",
     "start_time": "2024-07-15T15:20:46.022346Z"
    }
   },
   "cell_type": "code",
   "source": [
    "large_names = [name.upper() for name in names if len(name) > 5]\n",
    "\n",
    "print(large_names)"
   ],
   "id": "6afee9c1eb7cdee8",
   "outputs": [
    {
     "name": "stdout",
     "output_type": "stream",
     "text": [
      "['CAROLINE', 'ELEANOR', 'FREDDIE']\n"
     ]
    }
   ],
   "execution_count": 22
  },
  {
   "metadata": {
    "ExecuteTime": {
     "end_time": "2024-07-15T15:26:42.526213Z",
     "start_time": "2024-07-15T15:26:42.520235Z"
    }
   },
   "cell_type": "code",
   "source": [
    "## Exercise\n",
    "numbers = [1, 1, 2, 3, 5, 8, 13, 21, 34, 55]\n",
    "# 🚨 Do Not Change the code above 👆\n",
    "\n",
    "# Write your 1 line code 👇 below:\n",
    "squared_numbers = [number ** 2 for number in numbers]\n",
    "# Write your code 👆 above:\n",
    "\n",
    "\n",
    "print(squared_numbers)\n"
   ],
   "id": "e9a9ddd1dbbc8811",
   "outputs": [
    {
     "name": "stdout",
     "output_type": "stream",
     "text": [
      "[1, 1, 4, 9, 25, 64, 169, 441, 1156, 3025]\n"
     ]
    }
   ],
   "execution_count": 23
  },
  {
   "metadata": {
    "ExecuteTime": {
     "end_time": "2024-07-15T15:32:52.629060Z",
     "start_time": "2024-07-15T15:32:49.105062Z"
    }
   },
   "cell_type": "code",
   "source": [
    "# Exercise\n",
    "\n",
    "list_of_strings = input().split(',')\n",
    "# 🚨 Do  not change the code above\n",
    "\n",
    "# TODO: Use list comprehension to convert the strings to integers 👇:\n",
    "int_conver = [int(number) for number in list_of_strings]\n",
    "\n",
    "# TODO: Use list comprehension to filter out the odd numbers\n",
    "# and store the even numbers in a list called \"result\"\n",
    "result = [number for number in int_conver if number % 2 == 0]\n",
    "\n",
    "# Write your code 👆 above:\n",
    "print(result)"
   ],
   "id": "7fef67c527dbcb10",
   "outputs": [
    {
     "ename": "ValueError",
     "evalue": "invalid literal for int() with base 10: ''",
     "output_type": "error",
     "traceback": [
      "\u001B[0;31m---------------------------------------------------------------------------\u001B[0m",
      "\u001B[0;31mValueError\u001B[0m                                Traceback (most recent call last)",
      "Cell \u001B[0;32mIn[24], line 5\u001B[0m\n\u001B[1;32m      1\u001B[0m list_of_strings \u001B[38;5;241m=\u001B[39m \u001B[38;5;28minput\u001B[39m()\u001B[38;5;241m.\u001B[39msplit(\u001B[38;5;124m'\u001B[39m\u001B[38;5;124m,\u001B[39m\u001B[38;5;124m'\u001B[39m)\n\u001B[1;32m      2\u001B[0m \u001B[38;5;66;03m# 🚨 Do  not change the code above\u001B[39;00m\n\u001B[1;32m      3\u001B[0m \n\u001B[1;32m      4\u001B[0m \u001B[38;5;66;03m# TODO: Use list comprehension to convert the strings to integers 👇:\u001B[39;00m\n\u001B[0;32m----> 5\u001B[0m int_conver \u001B[38;5;241m=\u001B[39m [\u001B[38;5;28mint\u001B[39m(number) \u001B[38;5;28;01mfor\u001B[39;00m number \u001B[38;5;129;01min\u001B[39;00m list_of_strings]\n\u001B[1;32m      7\u001B[0m \u001B[38;5;66;03m# TODO: Use list comprehension to filter out the odd numbers\u001B[39;00m\n\u001B[1;32m      8\u001B[0m \u001B[38;5;66;03m# and store the even numbers in a list called \"result\"\u001B[39;00m\n\u001B[1;32m      9\u001B[0m result \u001B[38;5;241m=\u001B[39m [number \u001B[38;5;28;01mfor\u001B[39;00m number \u001B[38;5;129;01min\u001B[39;00m int_conver \u001B[38;5;28;01mif\u001B[39;00m number \u001B[38;5;241m%\u001B[39m \u001B[38;5;241m2\u001B[39m \u001B[38;5;241m==\u001B[39m \u001B[38;5;241m0\u001B[39m]\n",
      "Cell \u001B[0;32mIn[24], line 5\u001B[0m, in \u001B[0;36m<listcomp>\u001B[0;34m(.0)\u001B[0m\n\u001B[1;32m      1\u001B[0m list_of_strings \u001B[38;5;241m=\u001B[39m \u001B[38;5;28minput\u001B[39m()\u001B[38;5;241m.\u001B[39msplit(\u001B[38;5;124m'\u001B[39m\u001B[38;5;124m,\u001B[39m\u001B[38;5;124m'\u001B[39m)\n\u001B[1;32m      2\u001B[0m \u001B[38;5;66;03m# 🚨 Do  not change the code above\u001B[39;00m\n\u001B[1;32m      3\u001B[0m \n\u001B[1;32m      4\u001B[0m \u001B[38;5;66;03m# TODO: Use list comprehension to convert the strings to integers 👇:\u001B[39;00m\n\u001B[0;32m----> 5\u001B[0m int_conver \u001B[38;5;241m=\u001B[39m [\u001B[38;5;28mint\u001B[39m(number) \u001B[38;5;28;01mfor\u001B[39;00m number \u001B[38;5;129;01min\u001B[39;00m list_of_strings]\n\u001B[1;32m      7\u001B[0m \u001B[38;5;66;03m# TODO: Use list comprehension to filter out the odd numbers\u001B[39;00m\n\u001B[1;32m      8\u001B[0m \u001B[38;5;66;03m# and store the even numbers in a list called \"result\"\u001B[39;00m\n\u001B[1;32m      9\u001B[0m result \u001B[38;5;241m=\u001B[39m [number \u001B[38;5;28;01mfor\u001B[39;00m number \u001B[38;5;129;01min\u001B[39;00m int_conver \u001B[38;5;28;01mif\u001B[39;00m number \u001B[38;5;241m%\u001B[39m \u001B[38;5;241m2\u001B[39m \u001B[38;5;241m==\u001B[39m \u001B[38;5;241m0\u001B[39m]\n",
      "\u001B[0;31mValueError\u001B[0m: invalid literal for int() with base 10: ''"
     ]
    }
   ],
   "execution_count": 24
  },
  {
   "metadata": {
    "ExecuteTime": {
     "end_time": "2024-07-15T15:47:40.525904Z",
     "start_time": "2024-07-15T15:47:40.390586Z"
    }
   },
   "cell_type": "code",
   "source": [
    "# Exercise\n",
    "with open(\"file1.txt\") as file1:\n",
    "  list1 = file1.readlines()\n",
    "\n",
    "with open(\"file2.txt\") as file2:\n",
    "  list2 = file2.readlines()\n",
    "\n",
    "result = [int(num) for num in list1 if num in list2]\n",
    "\n",
    "\n",
    "# Write your code above 👆\n",
    "print(result)\n"
   ],
   "id": "5241d56e6fe0f98a",
   "outputs": [
    {
     "ename": "FileNotFoundError",
     "evalue": "[Errno 2] No such file or directory: 'file1.txt'",
     "output_type": "error",
     "traceback": [
      "\u001B[0;31m---------------------------------------------------------------------------\u001B[0m",
      "\u001B[0;31mFileNotFoundError\u001B[0m                         Traceback (most recent call last)",
      "Cell \u001B[0;32mIn[25], line 2\u001B[0m\n\u001B[1;32m      1\u001B[0m \u001B[38;5;66;03m# Exercise\u001B[39;00m\n\u001B[0;32m----> 2\u001B[0m \u001B[38;5;28;01mwith\u001B[39;00m \u001B[38;5;28mopen\u001B[39m(\u001B[38;5;124m\"\u001B[39m\u001B[38;5;124mfile1.txt\u001B[39m\u001B[38;5;124m\"\u001B[39m) \u001B[38;5;28;01mas\u001B[39;00m file1:\n\u001B[1;32m      3\u001B[0m   list1 \u001B[38;5;241m=\u001B[39m file1\u001B[38;5;241m.\u001B[39mreadlines()\n\u001B[1;32m      5\u001B[0m \u001B[38;5;28;01mwith\u001B[39;00m \u001B[38;5;28mopen\u001B[39m(\u001B[38;5;124m\"\u001B[39m\u001B[38;5;124mfile2.txt\u001B[39m\u001B[38;5;124m\"\u001B[39m) \u001B[38;5;28;01mas\u001B[39;00m file2:\n",
      "File \u001B[0;32m~/anaconda3/lib/python3.11/site-packages/IPython/core/interactiveshell.py:286\u001B[0m, in \u001B[0;36m_modified_open\u001B[0;34m(file, *args, **kwargs)\u001B[0m\n\u001B[1;32m    279\u001B[0m \u001B[38;5;28;01mif\u001B[39;00m file \u001B[38;5;129;01min\u001B[39;00m {\u001B[38;5;241m0\u001B[39m, \u001B[38;5;241m1\u001B[39m, \u001B[38;5;241m2\u001B[39m}:\n\u001B[1;32m    280\u001B[0m     \u001B[38;5;28;01mraise\u001B[39;00m \u001B[38;5;167;01mValueError\u001B[39;00m(\n\u001B[1;32m    281\u001B[0m         \u001B[38;5;124mf\u001B[39m\u001B[38;5;124m\"\u001B[39m\u001B[38;5;124mIPython won\u001B[39m\u001B[38;5;124m'\u001B[39m\u001B[38;5;124mt let you open fd=\u001B[39m\u001B[38;5;132;01m{\u001B[39;00mfile\u001B[38;5;132;01m}\u001B[39;00m\u001B[38;5;124m by default \u001B[39m\u001B[38;5;124m\"\u001B[39m\n\u001B[1;32m    282\u001B[0m         \u001B[38;5;124m\"\u001B[39m\u001B[38;5;124mas it is likely to crash IPython. If you know what you are doing, \u001B[39m\u001B[38;5;124m\"\u001B[39m\n\u001B[1;32m    283\u001B[0m         \u001B[38;5;124m\"\u001B[39m\u001B[38;5;124myou can use builtins\u001B[39m\u001B[38;5;124m'\u001B[39m\u001B[38;5;124m open.\u001B[39m\u001B[38;5;124m\"\u001B[39m\n\u001B[1;32m    284\u001B[0m     )\n\u001B[0;32m--> 286\u001B[0m \u001B[38;5;28;01mreturn\u001B[39;00m io_open(file, \u001B[38;5;241m*\u001B[39margs, \u001B[38;5;241m*\u001B[39m\u001B[38;5;241m*\u001B[39mkwargs)\n",
      "\u001B[0;31mFileNotFoundError\u001B[0m: [Errno 2] No such file or directory: 'file1.txt'"
     ]
    }
   ],
   "execution_count": 25
  },
  {
   "metadata": {},
   "cell_type": "code",
   "outputs": [],
   "execution_count": null,
   "source": "",
   "id": "ce045abf72d04e3e"
  }
 ],
 "metadata": {
  "kernelspec": {
   "display_name": "Python 3",
   "language": "python",
   "name": "python3"
  },
  "language_info": {
   "codemirror_mode": {
    "name": "ipython",
    "version": 2
   },
   "file_extension": ".py",
   "mimetype": "text/x-python",
   "name": "python",
   "nbconvert_exporter": "python",
   "pygments_lexer": "ipython2",
   "version": "2.7.6"
  }
 },
 "nbformat": 4,
 "nbformat_minor": 5
}
