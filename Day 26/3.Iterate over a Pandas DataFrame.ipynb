{
 "cells": [
  {
   "cell_type": "code",
   "id": "initial_id",
   "metadata": {
    "collapsed": true,
    "ExecuteTime": {
     "end_time": "2024-07-15T17:43:53.513951Z",
     "start_time": "2024-07-15T17:43:53.510066Z"
    }
   },
   "source": [
    "# Looping through dictionaries:\n",
    "\n",
    "student_dict = {\n",
    "    \"student\": [\"Angela\", \"James\", \"Lily\"],\n",
    "    \"score\": [56, 76, 98]\n",
    "}\n",
    "for (key, value) in student_dict.items():\n",
    "    print(value)\n",
    "    "
   ],
   "outputs": [
    {
     "name": "stdout",
     "output_type": "stream",
     "text": [
      "['Angela', 'James', 'Lily']\n",
      "[56, 76, 98]\n"
     ]
    }
   ],
   "execution_count": 2
  },
  {
   "metadata": {
    "ExecuteTime": {
     "end_time": "2024-07-15T17:43:54.731058Z",
     "start_time": "2024-07-15T17:43:53.582839Z"
    }
   },
   "cell_type": "code",
   "source": [
    "\n",
    "import pandas\n",
    "\n",
    "student_data_frame = pandas.DataFrame(student_dict)\n",
    "print(student_data_frame)"
   ],
   "id": "f1f0c9a9cde7a435",
   "outputs": [
    {
     "name": "stdout",
     "output_type": "stream",
     "text": [
      "  student  score\n",
      "0  Angela     56\n",
      "1   James     76\n",
      "2    Lily     98\n"
     ]
    }
   ],
   "execution_count": 3
  },
  {
   "metadata": {
    "ExecuteTime": {
     "end_time": "2024-07-15T17:43:54.749607Z",
     "start_time": "2024-07-15T17:43:54.732431Z"
    }
   },
   "cell_type": "code",
   "source": [
    "# looping through data frame\n",
    "for (key, value) in student_data_frame.items():\n",
    "    print(value)"
   ],
   "id": "bab6a3dff4cc7f05",
   "outputs": [
    {
     "name": "stdout",
     "output_type": "stream",
     "text": [
      "0    Angela\n",
      "1     James\n",
      "2      Lily\n",
      "Name: student, dtype: object\n",
      "0    56\n",
      "1    76\n",
      "2    98\n",
      "Name: score, dtype: int64\n"
     ]
    }
   ],
   "execution_count": 4
  },
  {
   "metadata": {
    "ExecuteTime": {
     "end_time": "2024-07-15T17:44:46.455496Z",
     "start_time": "2024-07-15T17:44:46.449715Z"
    }
   },
   "cell_type": "code",
   "source": [
    "# Loop through rows of a data frame\n",
    "\n",
    "for (index, row) in student_data_frame.iterrows():\n",
    "    print(row.student)"
   ],
   "id": "f76a7d299a31f31c",
   "outputs": [
    {
     "name": "stdout",
     "output_type": "stream",
     "text": [
      "Angela\n",
      "James\n",
      "Lily\n"
     ]
    }
   ],
   "execution_count": 7
  },
  {
   "metadata": {
    "ExecuteTime": {
     "end_time": "2024-07-15T17:45:54.208376Z",
     "start_time": "2024-07-15T17:45:54.194969Z"
    }
   },
   "cell_type": "code",
   "source": [
    "for (index, row) in student_data_frame.iterrows():\n",
    "    if row.student ==\"Angela\":\n",
    "        print(row.score)"
   ],
   "id": "e16d47e65bd9348",
   "outputs": [
    {
     "name": "stdout",
     "output_type": "stream",
     "text": [
      "56\n"
     ]
    }
   ],
   "execution_count": 8
  },
  {
   "metadata": {},
   "cell_type": "code",
   "outputs": [],
   "execution_count": null,
   "source": "",
   "id": "d2a8f8bd892a8faa"
  }
 ],
 "metadata": {
  "kernelspec": {
   "display_name": "Python 3",
   "language": "python",
   "name": "python3"
  },
  "language_info": {
   "codemirror_mode": {
    "name": "ipython",
    "version": 2
   },
   "file_extension": ".py",
   "mimetype": "text/x-python",
   "name": "python",
   "nbconvert_exporter": "python",
   "pygments_lexer": "ipython2",
   "version": "2.7.6"
  }
 },
 "nbformat": 4,
 "nbformat_minor": 5
}
