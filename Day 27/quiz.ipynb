{
 "cells": [
  {
   "cell_type": "code",
   "id": "initial_id",
   "metadata": {
    "collapsed": true
   },
   "source": [
    "def foo(a, b=4, c=6): \n",
    "    print(a, b, c)\n",
    " \n",
    "foo(1)"
   ],
   "outputs": [
    {
     "name": "stdout",
     "output_type": "stream",
     "text": [
      "1 4 6\n"
     ]
    }
   ],
   "execution_count": 1
  },
  {
   "metadata": {
    "ExecuteTime": {
     "end_time": "2024-07-16T15:36:21.414849Z",
     "start_time": "2024-07-16T15:36:21.410088Z"
    }
   },
   "cell_type": "code",
   "source": [
    "def add(*args):\n",
    "    for n in args:\n",
    "        print(n)"
   ],
   "id": "65d5f61800302223",
   "outputs": [],
   "execution_count": 2
  },
  {
   "metadata": {
    "ExecuteTime": {
     "end_time": "2024-07-16T15:36:28.816006Z",
     "start_time": "2024-07-16T15:36:28.808589Z"
    }
   },
   "cell_type": "code",
   "source": "add(4, 5)",
   "id": "61105cd25a2a0a0f",
   "outputs": [
    {
     "name": "stdout",
     "output_type": "stream",
     "text": [
      "4\n",
      "5\n"
     ]
    }
   ],
   "execution_count": 3
  },
  {
   "metadata": {
    "ExecuteTime": {
     "end_time": "2024-07-16T15:36:51.865959Z",
     "start_time": "2024-07-16T15:36:51.856451Z"
    }
   },
   "cell_type": "code",
   "source": "add(4,5,6,7,8,90)",
   "id": "1e85281fe04a6f3a",
   "outputs": [
    {
     "name": "stdout",
     "output_type": "stream",
     "text": [
      "4\n",
      "5\n",
      "6\n",
      "7\n",
      "8\n",
      "90\n"
     ]
    }
   ],
   "execution_count": 4
  },
  {
   "metadata": {},
   "cell_type": "code",
   "outputs": [],
   "execution_count": null,
   "source": "",
   "id": "c2dc57d43fb06610"
  }
 ],
 "metadata": {
  "kernelspec": {
   "display_name": "Python 3",
   "language": "python",
   "name": "python3"
  },
  "language_info": {
   "codemirror_mode": {
    "name": "ipython",
    "version": 2
   },
   "file_extension": ".py",
   "mimetype": "text/x-python",
   "name": "python",
   "nbconvert_exporter": "python",
   "pygments_lexer": "ipython2",
   "version": "2.7.6"
  }
 },
 "nbformat": 4,
 "nbformat_minor": 5
}
