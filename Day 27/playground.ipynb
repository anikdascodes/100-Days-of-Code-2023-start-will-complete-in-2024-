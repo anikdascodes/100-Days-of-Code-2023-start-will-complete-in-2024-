{
 "cells": [
  {
   "metadata": {},
   "cell_type": "markdown",
   "source": "# Multiple argument ",
   "id": "ee61b0594539c297"
  },
  {
   "metadata": {
    "ExecuteTime": {
     "end_time": "2024-07-16T15:53:35.590055Z",
     "start_time": "2024-07-16T15:53:35.577500Z"
    }
   },
   "cell_type": "code",
   "source": [
    "def add(*args):\n",
    "    sum = 0\n",
    "    for n in args:\n",
    "        sum += n\n",
    "    return sum\n",
    "\n",
    "\n",
    "print(add(3,5,6))"
   ],
   "id": "a7316451dc26e80f",
   "outputs": [
    {
     "name": "stdout",
     "output_type": "stream",
     "text": [
      "14\n"
     ]
    }
   ],
   "execution_count": 1
  },
  {
   "metadata": {},
   "cell_type": "markdown",
   "source": "# Multiple keyword Argument ",
   "id": "d2460357e0909ab7"
  },
  {
   "metadata": {
    "ExecuteTime": {
     "end_time": "2024-07-16T15:57:46.017252Z",
     "start_time": "2024-07-16T15:57:46.004012Z"
    }
   },
   "cell_type": "code",
   "source": [
    "def calculate(**kwargs):\n",
    "    print(kwargs)\n",
    "    for key, value in kwargs.items():\n",
    "        print(key)\n",
    "        \n",
    "    \n",
    "calculate(add=3, multiple=5)"
   ],
   "id": "79cfaa4774434530",
   "outputs": [
    {
     "name": "stdout",
     "output_type": "stream",
     "text": [
      "{'add': 3, 'multiple': 5}\n",
      "add\n",
      "multiple\n"
     ]
    }
   ],
   "execution_count": 3
  },
  {
   "metadata": {
    "ExecuteTime": {
     "end_time": "2024-07-16T16:52:09.598135Z",
     "start_time": "2024-07-16T16:52:09.584980Z"
    }
   },
   "cell_type": "code",
   "source": [
    "def calculate(n, **kwargs):\n",
    "    print(kwargs)\n",
    "    \n",
    "    n += kwargs[\"add\"]\n",
    "    n *= kwargs[\"multiply\"]\n",
    "    print(n)\n",
    "        \n",
    "    \n",
    "calculate(2, add=3, multiply=5)"
   ],
   "id": "d82a0937a81b66ff",
   "outputs": [
    {
     "name": "stdout",
     "output_type": "stream",
     "text": [
      "{'add': 3, 'multiply': 5}\n",
      "25\n"
     ]
    }
   ],
   "execution_count": 5
  },
  {
   "metadata": {
    "ExecuteTime": {
     "end_time": "2024-07-16T17:09:52.609876Z",
     "start_time": "2024-07-16T17:09:52.603391Z"
    }
   },
   "cell_type": "code",
   "source": [
    "def calculate(n, **kwargs):\n",
    "    print(kwargs)\n",
    "    \n",
    "    n += kwargs[\"add\"]\n",
    "    n *= kwargs[\"multiply\"]\n",
    "    print(n)\n",
    "        \n",
    "    \n",
    "calculate(2, multiply=5, add=3)"
   ],
   "id": "32903d4c7348508e",
   "outputs": [
    {
     "name": "stdout",
     "output_type": "stream",
     "text": [
      "{'multiply': 5, 'add': 3}\n",
      "25\n"
     ]
    }
   ],
   "execution_count": 6
  },
  {
   "metadata": {
    "ExecuteTime": {
     "end_time": "2024-07-16T17:15:30.266927Z",
     "start_time": "2024-07-16T17:15:30.260649Z"
    }
   },
   "cell_type": "code",
   "source": [
    "class Car:\n",
    "    def __init__(self, **kw):\n",
    "        self.make = kw[\"make\"]\n",
    "        self.model = kw[\"model\"]\n",
    "        \n",
    "        \n",
    "my_car = Car(make=\"Nissan\", model=\"GT-R\")\n",
    "print(my_car.model)"
   ],
   "id": "9f7c96f5f241a5e3",
   "outputs": [
    {
     "name": "stdout",
     "output_type": "stream",
     "text": [
      "GT-R\n"
     ]
    }
   ],
   "execution_count": 7
  },
  {
   "metadata": {
    "ExecuteTime": {
     "end_time": "2024-07-16T17:18:37.902777Z",
     "start_time": "2024-07-16T17:18:37.895399Z"
    }
   },
   "cell_type": "code",
   "source": [
    "class Car:\n",
    "    def __init__(self, **kw):\n",
    "        self.make = kw.get(\"make\")\n",
    "        self.model = kw.get(\"model\")\n",
    "        self.colour = kw.get(\"colour\")\n",
    "        self.seats = kw.get(\"seats\")\n",
    "        \n",
    "my_car = Car(make=\"Nissan\")\n",
    "print(my_car.model)"
   ],
   "id": "9fa55fd28ad5d9b1",
   "outputs": [
    {
     "name": "stdout",
     "output_type": "stream",
     "text": [
      "None\n"
     ]
    }
   ],
   "execution_count": 8
  },
  {
   "metadata": {
    "ExecuteTime": {
     "end_time": "2024-07-16T17:24:14.281560Z",
     "start_time": "2024-07-16T17:24:14.277414Z"
    }
   },
   "cell_type": "code",
   "source": [
    "def test(*args):\n",
    "    print(args)\n",
    " \n",
    "test(1,2,3,5)"
   ],
   "id": "7a9cd68629d86742",
   "outputs": [
    {
     "name": "stdout",
     "output_type": "stream",
     "text": [
      "(1, 2, 3, 5)\n"
     ]
    }
   ],
   "execution_count": 9
  },
  {
   "metadata": {
    "ExecuteTime": {
     "end_time": "2024-07-16T17:25:34.756668Z",
     "start_time": "2024-07-16T17:25:34.753721Z"
    }
   },
   "cell_type": "code",
   "source": [
    "def all_aboard(a, *args, **kw): \n",
    "    print(a, args, kw)\n",
    " \n",
    "all_aboard(4, 7, 3, 0, x=10, y=64)"
   ],
   "id": "b1e94bf2adef4d28",
   "outputs": [
    {
     "name": "stdout",
     "output_type": "stream",
     "text": [
      "4 (7, 3, 0) {'x': 10, 'y': 64}\n"
     ]
    }
   ],
   "execution_count": 10
  },
  {
   "metadata": {},
   "cell_type": "code",
   "outputs": [],
   "execution_count": null,
   "source": "",
   "id": "32c776a74b7e5214"
  }
 ],
 "metadata": {
  "kernelspec": {
   "display_name": "Python 3",
   "language": "python",
   "name": "python3"
  },
  "language_info": {
   "codemirror_mode": {
    "name": "ipython",
    "version": 2
   },
   "file_extension": ".py",
   "mimetype": "text/x-python",
   "name": "python",
   "nbconvert_exporter": "python",
   "pygments_lexer": "ipython2",
   "version": "2.7.6"
  }
 },
 "nbformat": 4,
 "nbformat_minor": 5
}
