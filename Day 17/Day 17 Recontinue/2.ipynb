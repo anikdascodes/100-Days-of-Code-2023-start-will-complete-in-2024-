{
 "cells": [
  {
   "metadata": {},
   "cell_type": "markdown",
   "source": [
    "## Method \n",
    "```\n",
    "class Car:\n",
    "    def enter_race_mode():\n",
    "        self.seats = 2\n",
    "```"
   ],
   "id": "63e9d2a4d38c2bc2"
  },
  {
   "metadata": {
    "ExecuteTime": {
     "end_time": "2024-07-03T07:02:35.749969Z",
     "start_time": "2024-07-03T07:02:35.730138Z"
    }
   },
   "cell_type": "code",
   "source": [
    "class User:\n",
    "    def __init__(self, user_id, username):\n",
    "        self.id = user_id\n",
    "        self.username = username\n",
    "        self.followers = 0\n",
    "        self.following = 0\n",
    "        \n",
    "    def follow(self, user):\n",
    "        user.followers += 1\n",
    "        self.following += 1\n",
    "        \n",
    "user_1 = User(\"001\", \"angela\")\n",
    "user_2 = User(\"002\", \"jack\")\n",
    "\n",
    "user_1.follow(user_2)\n",
    "\n",
    "print(user_1.followers)\n",
    "print(user_1.following)\n",
    "\n",
    "print(user_2.followers)\n",
    "print(user_2.following)"
   ],
   "id": "cf48fb57cae56c01",
   "outputs": [
    {
     "name": "stdout",
     "output_type": "stream",
     "text": [
      "0\n",
      "1\n",
      "1\n",
      "0\n"
     ]
    }
   ],
   "execution_count": 1
  },
  {
   "metadata": {},
   "cell_type": "code",
   "outputs": [],
   "execution_count": null,
   "source": "",
   "id": "737bdf1d066e7829"
  }
 ],
 "metadata": {
  "kernelspec": {
   "display_name": "Python 3",
   "language": "python",
   "name": "python3"
  },
  "language_info": {
   "codemirror_mode": {
    "name": "ipython",
    "version": 2
   },
   "file_extension": ".py",
   "mimetype": "text/x-python",
   "name": "python",
   "nbconvert_exporter": "python",
   "pygments_lexer": "ipython2",
   "version": "2.7.6"
  }
 },
 "nbformat": 4,
 "nbformat_minor": 5
}
