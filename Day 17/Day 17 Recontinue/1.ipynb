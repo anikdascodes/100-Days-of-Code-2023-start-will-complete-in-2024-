{
 "cells": [
  {
   "cell_type": "code",
   "id": "initial_id",
   "metadata": {
    "collapsed": true,
    "ExecuteTime": {
     "end_time": "2024-07-03T05:32:47.770434Z",
     "start_time": "2024-07-03T05:32:47.762493Z"
    }
   },
   "source": [
    "class User:\n",
    "    pass\n",
    "\n",
    "\n",
    "user_1 = User()\n",
    "user_1.id = \"001\"\n",
    "user_1.username = \"angela\"\n",
    "\n",
    "\n",
    "print(user_1.username)\n"
   ],
   "outputs": [
    {
     "name": "stdout",
     "output_type": "stream",
     "text": [
      "angela\n"
     ]
    }
   ],
   "execution_count": 1
  },
  {
   "metadata": {
    "ExecuteTime": {
     "end_time": "2024-07-03T05:36:40.233849Z",
     "start_time": "2024-07-03T05:36:40.227790Z"
    }
   },
   "cell_type": "code",
   "source": [
    "class User:\n",
    "    def __init__(self):\n",
    "        print(\"new user created..............\")\n",
    "\n",
    "\n",
    "user_1 = User()\n",
    "user_1.id = \"001\"\n",
    "user_1.username = \"angela\"\n",
    "\n",
    "\n",
    "print(user_1.username)\n",
    "\n",
    "user_2 = User()\n",
    "user_2.id = \"002\"\n",
    "user_2.username = \"jack\"\n"
   ],
   "id": "62f265650c4145d",
   "outputs": [
    {
     "name": "stdout",
     "output_type": "stream",
     "text": [
      "new user created..............\n",
      "angela\n",
      "new user created..............\n"
     ]
    }
   ],
   "execution_count": 3
  },
  {
   "metadata": {},
   "cell_type": "markdown",
   "source": [
    "## Attribute\n",
    "\n",
    "```\n",
    "class Car:\n",
    "    def __init__(self,seats):\n",
    "        self.seats = seats\n",
    "```"
   ],
   "id": "ae21f7d0fe1447d0"
  },
  {
   "metadata": {
    "ExecuteTime": {
     "end_time": "2024-07-03T06:08:20.548918Z",
     "start_time": "2024-07-03T06:08:20.528037Z"
    }
   },
   "cell_type": "code",
   "source": [
    "class User:\n",
    "    def __init__(self, user_id, username):\n",
    "        self.id = user_id\n",
    "        self.username = username\n",
    "        \n",
    "\n",
    "\n",
    "user_1 = User(\"001\", \"angela\")\n",
    "\n",
    "\n",
    "print(user_1.username)\n",
    "print(user_1.id)\n"
   ],
   "id": "81a6be0e9018fb01",
   "outputs": [
    {
     "name": "stdout",
     "output_type": "stream",
     "text": [
      "angela\n",
      "001\n"
     ]
    }
   ],
   "execution_count": 8
  },
  {
   "metadata": {
    "ExecuteTime": {
     "end_time": "2024-07-03T06:14:45.915579Z",
     "start_time": "2024-07-03T06:14:45.885471Z"
    }
   },
   "cell_type": "code",
   "source": [
    "class User:\n",
    "    def __init__(self, user_id, username):\n",
    "        self.id = user_id\n",
    "        self.username = username\n",
    "        self.followers = 0\n",
    "        \n",
    "\n",
    "\n",
    "user_1 = User(\"001\", \"angela\")\n",
    "user_2 = User(\"002\", \"jack\")\n",
    "\n",
    "\n",
    "print(user_1.followers)"
   ],
   "id": "d0470270defa0f7f",
   "outputs": [
    {
     "name": "stdout",
     "output_type": "stream",
     "text": [
      "0\n"
     ]
    }
   ],
   "execution_count": 10
  },
  {
   "metadata": {},
   "cell_type": "code",
   "outputs": [],
   "execution_count": null,
   "source": "",
   "id": "7831080a3188149c"
  }
 ],
 "metadata": {
  "kernelspec": {
   "display_name": "Python 3",
   "language": "python",
   "name": "python3"
  },
  "language_info": {
   "codemirror_mode": {
    "name": "ipython",
    "version": 2
   },
   "file_extension": ".py",
   "mimetype": "text/x-python",
   "name": "python",
   "nbconvert_exporter": "python",
   "pygments_lexer": "ipython2",
   "version": "2.7.6"
  }
 },
 "nbformat": 4,
 "nbformat_minor": 5
}
