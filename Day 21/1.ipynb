{
 "cells": [
  {
   "cell_type": "code",
   "id": "initial_id",
   "metadata": {
    "collapsed": true,
    "ExecuteTime": {
     "end_time": "2024-07-08T17:07:57.841792Z",
     "start_time": "2024-07-08T17:07:57.835506Z"
    }
   },
   "source": [
    "#Base Class: Animal\n",
    "class Animal:\n",
    "    def __init__(self):\n",
    "        self.num_eyes = 2  # All animals have two eyes\n",
    "\n",
    "    def breathe(self):\n",
    "        print(\"Inhale, exhale\")\n"
   ],
   "outputs": [],
   "execution_count": 1
  },
  {
   "metadata": {
    "ExecuteTime": {
     "end_time": "2024-07-08T17:08:03.881632Z",
     "start_time": "2024-07-08T17:08:03.875408Z"
    }
   },
   "cell_type": "code",
   "source": [
    "#  Subclass: Fish\n",
    "class Fish(Animal):\n",
    "    def __init__(self):\n",
    "        super().__init__()  # Inherit the initializer from the Animal class\n",
    "\n",
    "    def swim(self):\n",
    "        print(\"Moving in water\")\n",
    "\n",
    "    def breathe(self):\n",
    "        super().breathe()  # Call the breathe method from the Animal class\n",
    "        print(\"Doing this underwater\")\n"
   ],
   "id": "7424e99b0dfe59fe",
   "outputs": [],
   "execution_count": 2
  },
  {
   "metadata": {
    "ExecuteTime": {
     "end_time": "2024-07-08T17:08:17.835279Z",
     "start_time": "2024-07-08T17:08:17.830505Z"
    }
   },
   "cell_type": "code",
   "source": [
    "# Using the Classes\n",
    "nemo = Fish()\n",
    "nemo.breathe()      # Output: Inhale, exhale\\nDoing this underwater\n",
    "print(nemo.num_eyes)  # Output: 2\n",
    "nemo.swim()         # Output: Moving in water\n"
   ],
   "id": "b0c4832d3e474976",
   "outputs": [
    {
     "name": "stdout",
     "output_type": "stream",
     "text": [
      "Inhale, exhale\n",
      "Doing this underwater\n",
      "2\n",
      "Moving in water\n"
     ]
    }
   ],
   "execution_count": 3
  }
 ],
 "metadata": {
  "kernelspec": {
   "display_name": "Python 3",
   "language": "python",
   "name": "python3"
  },
  "language_info": {
   "codemirror_mode": {
    "name": "ipython",
    "version": 2
   },
   "file_extension": ".py",
   "mimetype": "text/x-python",
   "name": "python",
   "nbconvert_exporter": "python",
   "pygments_lexer": "ipython2",
   "version": "2.7.6"
  }
 },
 "nbformat": 4,
 "nbformat_minor": 5
}
