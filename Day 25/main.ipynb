{
 "cells": [
  {
   "cell_type": "code",
   "id": "initial_id",
   "metadata": {
    "collapsed": true,
    "ExecuteTime": {
     "end_time": "2024-07-13T15:11:08.595324Z",
     "start_time": "2024-07-13T15:11:08.586660Z"
    }
   },
   "source": [
    "with open(\"weather_data.csv\") as data_file:\n",
    "    data = data_file.readlines()\n",
    "    print(data)"
   ],
   "outputs": [
    {
     "name": "stdout",
     "output_type": "stream",
     "text": [
      "['day,temp,condition\\n', 'Monday,12,Sunny\\n', 'Tuesday,14,Rain\\n', 'Wednesday,15,Rain\\n', 'Thursday,14,Cloudy\\n', 'Friday,21,Sunny\\n', 'Saturday,22,Sunny\\n', 'Sunday,24,Sunny']\n"
     ]
    }
   ],
   "execution_count": 1
  },
  {
   "metadata": {
    "ExecuteTime": {
     "end_time": "2024-07-13T15:11:30.735287Z",
     "start_time": "2024-07-13T15:11:30.729814Z"
    }
   },
   "cell_type": "code",
   "source": [
    "import csv\n",
    "\n",
    "with open(\"weather_data.csv\") as data_file:\n",
    "    data = csv.reader(data_file)\n",
    "    temperatures = []\n",
    "    print(data)\n",
    "    for row in data:\n",
    "        if row[1] != \"temp\":\n",
    "            temperatures.append(int(row[1]))\n",
    "    print(temperatures)"
   ],
   "id": "4ec3cce94c29ebc6",
   "outputs": [
    {
     "name": "stdout",
     "output_type": "stream",
     "text": [
      "<_csv.reader object at 0x7befe86de3b0>\n",
      "[12, 14, 15, 14, 21, 22, 24]\n"
     ]
    }
   ],
   "execution_count": 2
  },
  {
   "metadata": {
    "ExecuteTime": {
     "end_time": "2024-07-13T15:15:18.547003Z",
     "start_time": "2024-07-13T15:15:18.536736Z"
    }
   },
   "cell_type": "code",
   "source": [
    "import pandas\n",
    "\n",
    "data = pandas.read_csv(\"weather_data.csv\")\n",
    "print(data[\"temp\"])"
   ],
   "id": "e83856f3a7096ad7",
   "outputs": [
    {
     "name": "stdout",
     "output_type": "stream",
     "text": [
      "0    12\n",
      "1    14\n",
      "2    15\n",
      "3    14\n",
      "4    21\n",
      "5    22\n",
      "6    24\n",
      "Name: temp, dtype: int64\n"
     ]
    }
   ],
   "execution_count": 6
  },
  {
   "metadata": {
    "ExecuteTime": {
     "end_time": "2024-07-13T15:13:03.663394Z",
     "start_time": "2024-07-13T15:13:03.643302Z"
    }
   },
   "cell_type": "code",
   "source": [
    "import pandas\n",
    "\n",
    "data = pandas.read_csv(\"weather_data.csv\")\n",
    "print(type(data))\n"
   ],
   "id": "eebf23bd6653bc7e",
   "outputs": [
    {
     "name": "stdout",
     "output_type": "stream",
     "text": [
      "<class 'pandas.core.frame.DataFrame'>\n"
     ]
    }
   ],
   "execution_count": 4
  },
  {
   "metadata": {
    "ExecuteTime": {
     "end_time": "2024-07-13T15:36:03.714920Z",
     "start_time": "2024-07-13T15:36:03.708335Z"
    }
   },
   "cell_type": "code",
   "source": [
    "import pandas\n",
    "\n",
    "data = pandas.read_csv(\"weather_data.csv\")\n",
    "print(type(data[\"temp\"]))"
   ],
   "id": "428742d24a1cf580",
   "outputs": [
    {
     "name": "stdout",
     "output_type": "stream",
     "text": [
      "<class 'pandas.core.series.Series'>\n"
     ]
    }
   ],
   "execution_count": 8
  },
  {
   "metadata": {
    "ExecuteTime": {
     "end_time": "2024-07-13T15:49:15.572846Z",
     "start_time": "2024-07-13T15:49:15.562923Z"
    }
   },
   "cell_type": "code",
   "source": [
    "data_dict = data.to_dict()\n",
    "print(data_dict)"
   ],
   "id": "798fe6e5b694a33b",
   "outputs": [
    {
     "name": "stdout",
     "output_type": "stream",
     "text": [
      "{'day': {0: 'Monday', 1: 'Tuesday', 2: 'Wednesday', 3: 'Thursday', 4: 'Friday', 5: 'Saturday', 6: 'Sunday'}, 'temp': {0: 12, 1: 14, 2: 15, 3: 14, 4: 21, 5: 22, 6: 24}, 'condition': {0: 'Sunny', 1: 'Rain', 2: 'Rain', 3: 'Cloudy', 4: 'Sunny', 5: 'Sunny', 6: 'Sunny'}}\n"
     ]
    }
   ],
   "execution_count": 9
  },
  {
   "metadata": {
    "ExecuteTime": {
     "end_time": "2024-07-13T15:54:09.264025Z",
     "start_time": "2024-07-13T15:54:09.254686Z"
    }
   },
   "cell_type": "code",
   "source": [
    "temp_list = data[\"temp\"].to_list()\n",
    "print(temp_list)\n",
    "\n",
    "print(len(temp_list))\n"
   ],
   "id": "f9f6aa2d83c0ce9c",
   "outputs": [
    {
     "name": "stdout",
     "output_type": "stream",
     "text": [
      "[12, 14, 15, 14, 21, 22, 24]\n",
      "7\n"
     ]
    }
   ],
   "execution_count": 14
  },
  {
   "metadata": {
    "ExecuteTime": {
     "end_time": "2024-07-13T15:58:59.857456Z",
     "start_time": "2024-07-13T15:58:59.848382Z"
    }
   },
   "cell_type": "code",
   "source": [
    "average= sum(temp_list) / len(temp_list)\n",
    "print(average)"
   ],
   "id": "c6f5163d5b507622",
   "outputs": [
    {
     "name": "stdout",
     "output_type": "stream",
     "text": [
      "17.428571428571427\n"
     ]
    }
   ],
   "execution_count": 17
  },
  {
   "metadata": {
    "ExecuteTime": {
     "end_time": "2024-07-13T16:00:09.493602Z",
     "start_time": "2024-07-13T16:00:09.479954Z"
    }
   },
   "cell_type": "code",
   "source": "print(data[\"temp\"].mean())",
   "id": "e4d7ae46882d6fd8",
   "outputs": [
    {
     "name": "stdout",
     "output_type": "stream",
     "text": [
      "17.428571428571427\n"
     ]
    }
   ],
   "execution_count": 19
  },
  {
   "metadata": {
    "ExecuteTime": {
     "end_time": "2024-07-13T16:01:48.031663Z",
     "start_time": "2024-07-13T16:01:48.022615Z"
    }
   },
   "cell_type": "code",
   "source": "print(data['temp'].max())",
   "id": "d21cbdda52e26be4",
   "outputs": [
    {
     "name": "stdout",
     "output_type": "stream",
     "text": [
      "24\n"
     ]
    }
   ],
   "execution_count": 21
  },
  {
   "metadata": {
    "ExecuteTime": {
     "end_time": "2024-07-13T16:03:54.155638Z",
     "start_time": "2024-07-13T16:03:54.146587Z"
    }
   },
   "cell_type": "code",
   "source": [
    "# Get Data in Columns\n",
    "print(data[\"condition\"])"
   ],
   "id": "f4140150488cc3ef",
   "outputs": [
    {
     "name": "stdout",
     "output_type": "stream",
     "text": [
      "0     Sunny\n",
      "1      Rain\n",
      "2      Rain\n",
      "3    Cloudy\n",
      "4     Sunny\n",
      "5     Sunny\n",
      "6     Sunny\n",
      "Name: condition, dtype: object\n"
     ]
    }
   ],
   "execution_count": 22
  },
  {
   "metadata": {
    "ExecuteTime": {
     "end_time": "2024-07-13T16:05:02.334096Z",
     "start_time": "2024-07-13T16:05:02.328207Z"
    }
   },
   "cell_type": "code",
   "source": "print(data.condition)",
   "id": "77b40942bcf2f436",
   "outputs": [
    {
     "name": "stdout",
     "output_type": "stream",
     "text": [
      "0     Sunny\n",
      "1      Rain\n",
      "2      Rain\n",
      "3    Cloudy\n",
      "4     Sunny\n",
      "5     Sunny\n",
      "6     Sunny\n",
      "Name: condition, dtype: object\n"
     ]
    }
   ],
   "execution_count": 24
  },
  {
   "metadata": {
    "ExecuteTime": {
     "end_time": "2024-07-13T16:07:19.320033Z",
     "start_time": "2024-07-13T16:07:19.305447Z"
    }
   },
   "cell_type": "code",
   "source": [
    "# Get Data in Row\n",
    "\n",
    "print(data[data.day == \"Monday\"])"
   ],
   "id": "4cd8fb1f1d52b030",
   "outputs": [
    {
     "name": "stdout",
     "output_type": "stream",
     "text": [
      "      day  temp condition\n",
      "0  Monday    12     Sunny\n"
     ]
    }
   ],
   "execution_count": 25
  },
  {
   "metadata": {
    "ExecuteTime": {
     "end_time": "2024-07-13T16:14:22.707079Z",
     "start_time": "2024-07-13T16:14:22.677015Z"
    }
   },
   "cell_type": "code",
   "source": "print(data[data.temp == data[\"temp\"].max()])",
   "id": "c0a72be6c1737b09",
   "outputs": [
    {
     "name": "stdout",
     "output_type": "stream",
     "text": [
      "      day  temp condition\n",
      "6  Sunday    24     Sunny\n"
     ]
    }
   ],
   "execution_count": 32
  },
  {
   "metadata": {
    "ExecuteTime": {
     "end_time": "2024-07-13T16:18:59.715666Z",
     "start_time": "2024-07-13T16:18:59.702910Z"
    }
   },
   "cell_type": "code",
   "source": [
    "monday = data[data.day == \"Monday\"]\n",
    "print(monday.condition)"
   ],
   "id": "7bad2dd17e71ab4b",
   "outputs": [
    {
     "name": "stdout",
     "output_type": "stream",
     "text": [
      "0    Sunny\n",
      "Name: condition, dtype: object\n"
     ]
    }
   ],
   "execution_count": 37
  },
  {
   "metadata": {
    "ExecuteTime": {
     "end_time": "2024-07-13T16:23:16.743785Z",
     "start_time": "2024-07-13T16:23:16.713816Z"
    }
   },
   "cell_type": "code",
   "source": [
    "monday_temp = monday.temp[0]\n",
    "monday_temp_F = monday_temp * 9/5 + 32\n",
    "print(monday_temp_F)"
   ],
   "id": "a7099257227bc7fb",
   "outputs": [
    {
     "name": "stdout",
     "output_type": "stream",
     "text": [
      "53.6\n"
     ]
    }
   ],
   "execution_count": 46
  },
  {
   "metadata": {
    "ExecuteTime": {
     "end_time": "2024-07-13T16:27:08.547609Z",
     "start_time": "2024-07-13T16:27:08.535990Z"
    }
   },
   "cell_type": "code",
   "source": [
    "# Create a datafreame from scratch \n",
    "\n",
    "data_dict ={\n",
    "    \"students\": [\"Amy\", \"James\", \"Angela\"],\n",
    "    \"scores\": [76, 56, 65]\n",
    "}\n",
    "\n",
    "data = pandas.DataFrame(data_dict)\n",
    "print(data)"
   ],
   "id": "1be279a188a5e1b7",
   "outputs": [
    {
     "name": "stdout",
     "output_type": "stream",
     "text": [
      "  students  scores\n",
      "0      Amy      76\n",
      "1    James      56\n",
      "2   Angela      65\n"
     ]
    }
   ],
   "execution_count": 47
  },
  {
   "metadata": {
    "ExecuteTime": {
     "end_time": "2024-07-13T16:28:10.431573Z",
     "start_time": "2024-07-13T16:28:10.421406Z"
    }
   },
   "cell_type": "code",
   "source": "data.to_csv(\"new_data.csv\")",
   "id": "bd8403fccc6221b2",
   "outputs": [],
   "execution_count": 48
  },
  {
   "metadata": {},
   "cell_type": "code",
   "outputs": [],
   "execution_count": null,
   "source": "",
   "id": "923badb4ce5bb199"
  }
 ],
 "metadata": {
  "kernelspec": {
   "display_name": "Python 3",
   "language": "python",
   "name": "python3"
  },
  "language_info": {
   "codemirror_mode": {
    "name": "ipython",
    "version": 2
   },
   "file_extension": ".py",
   "mimetype": "text/x-python",
   "name": "python",
   "nbconvert_exporter": "python",
   "pygments_lexer": "ipython2",
   "version": "2.7.6"
  }
 },
 "nbformat": 4,
 "nbformat_minor": 5
}
