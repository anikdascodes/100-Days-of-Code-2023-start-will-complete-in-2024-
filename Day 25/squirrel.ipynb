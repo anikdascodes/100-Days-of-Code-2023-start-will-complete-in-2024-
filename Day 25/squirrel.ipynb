{
 "cells": [
  {
   "cell_type": "code",
   "id": "initial_id",
   "metadata": {
    "collapsed": true,
    "ExecuteTime": {
     "end_time": "2024-07-13T17:12:27.616798Z",
     "start_time": "2024-07-13T17:12:27.581084Z"
    }
   },
   "source": [
    "import pandas\n",
    "\n",
    "data = pandas.read_csv(\"2018_Central_Park_Squirrel_Census_-_Squirrel_Data.csv\")\n",
    "grey_squirrel = data[data[\"Primary Fur Color\"] ==  \"Gray\"]\n",
    "print(grey_squirrel)"
   ],
   "outputs": [
    {
     "name": "stdout",
     "output_type": "stream",
     "text": [
      "              X          Y Unique Squirrel ID Hectare Shift      Date  \\\n",
      "1    -73.957044  40.794851     37E-PM-1006-03     37E    PM  10062018   \n",
      "3    -73.975725  40.769703      5D-PM-1018-05     05D    PM  10182018   \n",
      "5    -73.956570  40.790256     33H-AM-1019-02     33H    AM  10192018   \n",
      "6    -73.971974  40.769305      6G-PM-1020-02     06G    PM  10202018   \n",
      "7    -73.960261  40.794288     35C-PM-1013-03     35C    PM  10132018   \n",
      "...         ...        ...                ...     ...   ...       ...   \n",
      "3016 -73.966290  40.784330     23C-AM-1019-01     23C    AM  10192018   \n",
      "3018 -73.963943  40.790868     30B-AM-1007-04     30B    AM  10072018   \n",
      "3019 -73.970402  40.782560     19A-PM-1013-05     19A    PM  10132018   \n",
      "3020 -73.966587  40.783678     22D-PM-1012-07     22D    PM  10122018   \n",
      "3021 -73.963994  40.789915     29B-PM-1010-02     29B    PM  10102018   \n",
      "\n",
      "      Hectare Squirrel Number       Age Primary Fur Color  \\\n",
      "1                           3     Adult              Gray   \n",
      "3                           5  Juvenile              Gray   \n",
      "5                           2  Juvenile              Gray   \n",
      "6                           2     Adult              Gray   \n",
      "7                           3       NaN              Gray   \n",
      "...                       ...       ...               ...   \n",
      "3016                        1     Adult              Gray   \n",
      "3018                        4     Adult              Gray   \n",
      "3019                        5     Adult              Gray   \n",
      "3020                        7     Adult              Gray   \n",
      "3021                        2       NaN              Gray   \n",
      "\n",
      "         Highlight Fur Color  ...   Kuks  Quaas  Moans Tail flags  \\\n",
      "1                   Cinnamon  ...  False  False  False      False   \n",
      "3                        NaN  ...  False  False  False      False   \n",
      "5                   Cinnamon  ...  False  False  False      False   \n",
      "6                        NaN  ...  False  False  False      False   \n",
      "7                   Cinnamon  ...  False  False  False      False   \n",
      "...                      ...  ...    ...    ...    ...        ...   \n",
      "3016         Cinnamon, White  ...   True  False  False      False   \n",
      "3018                     NaN  ...  False  False  False      False   \n",
      "3019                   White  ...  False  False  False      False   \n",
      "3020  Black, Cinnamon, White  ...  False  False  False      False   \n",
      "3021         Cinnamon, White  ...  False  False  False      False   \n",
      "\n",
      "     Tail twitches  Approaches  Indifferent  Runs from  Other Interactions  \\\n",
      "1            False       False        False       True                  me   \n",
      "3            False       False        False       True                 NaN   \n",
      "5            False       False        False      False                 NaN   \n",
      "6            False       False         True      False                 NaN   \n",
      "7            False       False        False       True                 NaN   \n",
      "...            ...         ...          ...        ...                 ...   \n",
      "3016         False       False         True      False                 NaN   \n",
      "3018         False       False        False       True                 NaN   \n",
      "3019         False       False         True      False                 NaN   \n",
      "3020         False       False         True      False                 NaN   \n",
      "3021         False       False         True      False                 NaN   \n",
      "\n",
      "                                          Lat/Long  \n",
      "1     POINT (-73.9570437717691 40.794850940803904)  \n",
      "3       POINT (-73.9757249834141 40.7697032606755)  \n",
      "5       POINT (-73.9565700386162 40.7902561000937)  \n",
      "6       POINT (-73.9719735582476 40.7693045133578)  \n",
      "7      POINT (-73.9602609920814 40.79428830455661)  \n",
      "...                                            ...  \n",
      "3016    POINT (-73.9662895079734 40.7843300758044)  \n",
      "3018    POINT (-73.9639431360458 40.7908677445466)  \n",
      "3019    POINT (-73.9704015859639 40.7825600069973)  \n",
      "3020    POINT (-73.9665871993517 40.7836775064883)  \n",
      "3021    POINT (-73.9639941227864 40.7899152327912)  \n",
      "\n",
      "[2473 rows x 31 columns]\n"
     ]
    }
   ],
   "execution_count": 2
  },
  {
   "metadata": {
    "ExecuteTime": {
     "end_time": "2024-07-13T17:13:57.756683Z",
     "start_time": "2024-07-13T17:13:57.668067Z"
    }
   },
   "cell_type": "code",
   "source": [
    "import pandas\n",
    "\n",
    "data = pandas.read_csv(\"2018_Central_Park_Squirrel_Census_-_Squirrel_Data.csv\")\n",
    "grey_squirrel_count  = len(data[data[\"Primary Fur Color\"] ==  \"Gray\"])\n",
    "print(grey_squirrel_count)"
   ],
   "id": "ebfc8ecf7d41f6cc",
   "outputs": [
    {
     "name": "stdout",
     "output_type": "stream",
     "text": [
      "2473\n"
     ]
    }
   ],
   "execution_count": 3
  },
  {
   "metadata": {
    "ExecuteTime": {
     "end_time": "2024-07-13T17:16:30.752130Z",
     "start_time": "2024-07-13T17:16:30.646669Z"
    }
   },
   "cell_type": "code",
   "source": [
    "import pandas\n",
    "\n",
    "data = pandas.read_csv(\"2018_Central_Park_Squirrel_Census_-_Squirrel_Data.csv\")\n",
    "grey_squirrel_count  = len(data[data[\"Primary Fur Color\"] ==  \"Gray\"])\n",
    "red_squirrel_count  = len(data[data[\"Primary Fur Color\"] ==  \"Cinnamon\"])\n",
    "black_squirrel_count  = len(data[data[\"Primary Fur Color\"] ==  \"Black\"])\n",
    "\n",
    "\n",
    "print(grey_squirrel_count)\n",
    "print(red_squirrel_count)\n",
    "print(black_squirrel_count)\n"
   ],
   "id": "2fb547ee3b65a84a",
   "outputs": [
    {
     "name": "stdout",
     "output_type": "stream",
     "text": [
      "2473\n",
      "392\n",
      "103\n"
     ]
    }
   ],
   "execution_count": 4
  },
  {
   "metadata": {
    "ExecuteTime": {
     "end_time": "2024-07-13T17:19:07.049796Z",
     "start_time": "2024-07-13T17:19:07.038381Z"
    }
   },
   "cell_type": "code",
   "source": [
    "data_dict = {\n",
    "    \"Fur Color\": [\"Gray\", \"Cinnamon\", \"Black\"],\n",
    "    \"Count\": [grey_squirrel_count, red_squirrel_count, black_squirrel_count]\n",
    "}\n",
    "\n",
    "print(data_dict)"
   ],
   "id": "2b64689abbfc6967",
   "outputs": [
    {
     "name": "stdout",
     "output_type": "stream",
     "text": [
      "{'Fur Color': ['Gray', 'Cinnamon', 'Black'], 'Count': [2473, 392, 103]}\n"
     ]
    }
   ],
   "execution_count": 5
  },
  {
   "metadata": {
    "ExecuteTime": {
     "end_time": "2024-07-13T17:20:32.454428Z",
     "start_time": "2024-07-13T17:20:32.424117Z"
    }
   },
   "cell_type": "code",
   "source": [
    "df = pandas.DataFrame(data_dict)\n",
    "df.to_csv(\"squirrel_count.csv\")"
   ],
   "id": "14c42fb54a786030",
   "outputs": [],
   "execution_count": 6
  },
  {
   "metadata": {},
   "cell_type": "code",
   "outputs": [],
   "execution_count": null,
   "source": "",
   "id": "9029872f8bdcc639"
  }
 ],
 "metadata": {
  "kernelspec": {
   "display_name": "Python 3",
   "language": "python",
   "name": "python3"
  },
  "language_info": {
   "codemirror_mode": {
    "name": "ipython",
    "version": 2
   },
   "file_extension": ".py",
   "mimetype": "text/x-python",
   "name": "python",
   "nbconvert_exporter": "python",
   "pygments_lexer": "ipython2",
   "version": "2.7.6"
  }
 },
 "nbformat": 4,
 "nbformat_minor": 5
}
